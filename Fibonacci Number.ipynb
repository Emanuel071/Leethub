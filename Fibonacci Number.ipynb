{
  "cells": [
    {
      "attachments": {},
      "cell_type": "markdown",
      "metadata": {
        "id": "baXbq8ixZnpT"
      },
      "source": [
        "## 70. Fibonacci Number\n",
        "\n",
        "The Fibonacci numbers, commonly denoted F(n) form a sequence, called the Fibonacci sequence, such that each number is the sum of the two preceding ones, starting from 0 and 1. That is,\n",
        "\n",
        "F(0) = 0, F(1) = 1\n",
        "F(n) = F(n - 1) + F(n - 2), for n > 1.\n",
        "\n",
        "Given n, calculate F(n).\n",
        " \n",
        "\n",
        "## Example 1:\n",
        "\n",
        "Input: n = 2\n",
        "Output: 1\n",
        "Explanation: F(2) = F(1) + F(0) = 1 + 0 = 1.\n",
        "\n",
        "## Example 2:\n",
        "\n",
        "Input: n = 3\n",
        "Output: 2\n",
        "Explanation: F(3) = F(2) + F(1) = 1 + 1 = 2.\n",
        "\n",
        "## Example 3:\n",
        "\n",
        "Input: n = 4\n",
        "Output: 3\n",
        "Explanation: F(4) = F(3) + F(2) = 2 + 1 = 3.\n",
        "\n",
        "## Constraints:\n",
        "\n",
        "0 <= n <= 30"
      ]
    },
    {
      "attachments": {},
      "cell_type": "markdown",
      "metadata": {
        "id": "H8y5LZ9XZnpf"
      },
      "source": [
        "## Brute Force Fibonacci Number"
      ]
    },
    {
      "cell_type": "code",
      "execution_count": 25,
      "metadata": {
        "id": "xYEZEBwOZnpg"
      },
      "outputs": [
        {
          "data": {
            "text/plain": [
              "55"
            ]
          },
          "execution_count": 25,
          "metadata": {},
          "output_type": "execute_result"
        }
      ],
      "source": [
        "class Solution(object):\n",
        "    def fibonacci_recursive(self, n):\n",
        "        \"\"\"\n",
        "        :type n: int\n",
        "        :rtype: int\n",
        "        \"\"\"\n",
        "        return Solution.countWays(self, n)\n",
        "    \n",
        "    def countWays(self, s):\n",
        "        small_steps = 1\n",
        "        large_steps = 2\n",
        "        # ways_to_climb = 0\n",
        "        if s <= 1:\n",
        "            # ways_to_climb = ways_to_climb + 1\n",
        "            return s\n",
        "        return Solution.countWays(self, s - small_steps) + Solution.countWays(self, s - large_steps)\n",
        "    \n",
        "        \n",
        "\n",
        "n = 10\n",
        "Solution.fibonacci_recursive(0, n)\n",
        "\n",
        "# helped me figure it out after i struggled to understand how to randomize the 1 to \n",
        "# 2 steps \n",
        "# https://www.geeksforgeeks.org/count-ways-reach-nth-stair/\n"
      ]
    },
    {
      "attachments": {},
      "cell_type": "markdown",
      "metadata": {
        "id": "wpqv5vE1xtcW"
      },
      "source": [
        "## Faster Fibonacci Number"
      ]
    },
    {
      "cell_type": "code",
      "execution_count": 19,
      "metadata": {
        "id": "kGinINFuleLj"
      },
      "outputs": [
        {
          "data": {
            "text/plain": [
              "55"
            ]
          },
          "execution_count": 19,
          "metadata": {},
          "output_type": "execute_result"
        }
      ],
      "source": [
        "class Solution(object):\n",
        "    def fibonacci_iterative(self, n):\n",
        "        \"\"\"\n",
        "        :type n: int\n",
        "        :rtype: int\n",
        "        \"\"\"\n",
        "        if n <= 0:\n",
        "            return 0\n",
        "        elif n == 1:\n",
        "            return 1\n",
        "        else:\n",
        "            a, b = 0, 1\n",
        "            for i in range(2, n + 1):\n",
        "                c = a + b\n",
        "                a, b = b, c\n",
        "            return c\n",
        "    \n",
        "\n",
        "n = 10\n",
        "# print(range(n))\n",
        "# for i in range(n):\n",
        "#     print(i)\n",
        "Solution.fibonacci_iterative(0, n)\n",
        "\n",
        "# helped me figure it out after i struggled to understand how to randomize the 1 to \n",
        "# 2 steps \n",
        "# https://www.geeksforgeeks.org/count-ways-reach-nth-stair/\n"
      ]
    },
    {
      "cell_type": "markdown",
      "metadata": {
        "id": "QHl7XoYVZnph"
      },
      "source": [
        "## Experiment Area\n",
        "Here is where experiments can be run."
      ]
    },
    {
      "cell_type": "markdown",
      "metadata": {
        "id": "iE9GQTpxe_Du"
      },
      "source": [
        "### Data Collection\n",
        "This runs repeated tests over input sizes N to collect data for the plot section."
      ]
    },
    {
      "cell_type": "code",
      "execution_count": 26,
      "metadata": {
        "id": "b8LQTRqHsosy"
      },
      "outputs": [],
      "source": [
        "import time\n",
        "\n",
        "call_counts = []\n",
        "elapsed_times = []\n",
        "for i in range(1, 35):\n",
        "    start_time = time.time()\n",
        "    Solution.fibonacci_recursive(0,i)\n",
        "    end_time = time.time()\n",
        "    elapsed_times.append(end_time - start_time)\n",
        "    call_counts.append(i)\n"
      ]
    },
    {
      "cell_type": "code",
      "execution_count": 22,
      "metadata": {},
      "outputs": [],
      "source": [
        "import time\n",
        "\n",
        "\n",
        "call_counts_faster = []\n",
        "elapsed_times_faster = []\n",
        "for i in range(1, 35):\n",
        "    start_time = time.time()\n",
        "    Solution.fibonacci_iterative(0,i)\n",
        "    end_time = time.time()\n",
        "    elapsed_times_faster.append(end_time - start_time)\n",
        "    call_counts_faster.append(i)\n",
        "\n"
      ]
    },
    {
      "cell_type": "markdown",
      "metadata": {
        "id": "kdpHJd9YN8L5"
      },
      "source": [
        "### Plot\n",
        "Here is the plot."
      ]
    },
    {
      "cell_type": "code",
      "execution_count": 30,
      "metadata": {},
      "outputs": [
        {
          "name": "stderr",
          "output_type": "stream",
          "text": [
            "C:\\Users\\eacalder\\AppData\\Local\\Temp\\1/ipykernel_10036/3541235912.py:17: MatplotlibDeprecationWarning: The 'b' parameter of grid() has been renamed 'visible' since Matplotlib 3.5; support for the old name will be dropped two minor releases later.\n",
            "  ax1.grid(b=True, which='major', axis='both')\n"
          ]
        },
        {
          "data": {
            "text/plain": [
              "(15.0, 30.0, 0.0, 0.4)"
            ]
          },
          "execution_count": 30,
          "metadata": {},
          "output_type": "execute_result"
        },
        {
          "data": {
            "image/png": "[encoded data removed]",
            "text/plain": [
              "<Figure size 720x360 with 1 Axes>"
            ]
          },
          "metadata": {},
          "output_type": "display_data"
        }
      ],
      "source": [
        "from math import pow\n",
        "from math import log2\n",
        "from math import factorial\n",
        "# %matplotlib inline\n",
        "import matplotlib.pyplot as plt\n",
        "\n",
        "# Brute vs. CLRS execution steps\n",
        "plt.rcParams['figure.figsize'] = [10,5]\n",
        "fig, (ax1) = plt.subplots(1, 1)\n",
        "fig.suptitle('Runtime Analysis', size=\"xx-large\")\n",
        "fig.patch.set_facecolor('xkcd:white')\n",
        "\n",
        "ax1.plot(call_counts_faster, elapsed_times_faster)\n",
        "plt.plot(call_counts, elapsed_times)\n",
        "ax1.plot(call_counts_faster, elapsed_times_faster, \"k^-\", markersize=0, linewidth=1, label=\"Faster Algo\")\n",
        "ax1.plot(call_counts, elapsed_times, \"m^-\", markersize=0, linewidth=1, label=\"Brute Force\")\n",
        "ax1.grid(b=True, which='major', axis='both')\n",
        "ax1.set(xlabel = 'Call counts', ylabel = 'Elapsed time (s)')\n",
        "ax1.legend(loc=(1.05,0.60), scatterpoints=1)\n",
        "ax1.tick_params(axis=\"both\", which=\"major\", labelsize=14)\n",
        "ax1.axis([15,30,0,.4]) "
      ]
    }
  ],
  "metadata": {
    "colab": {
      "collapsed_sections": [
        "xBhwSTUr5zyq"
      ],
      "name": "closestbrute_paradox.ipynb",
      "provenance": []
    },
    "kernelspec": {
      "display_name": "Python 3",
      "language": "python",
      "name": "python3"
    },
    "language_info": {
      "codemirror_mode": {
        "name": "ipython",
        "version": 3
      },
      "file_extension": ".py",
      "mimetype": "text/x-python",
      "name": "python",
      "nbconvert_exporter": "python",
      "pygments_lexer": "ipython3",
      "version": "3.10.2 (tags/v3.10.2:a58ebcc, Jan 17 2022, 14:12:15) [MSC v.1929 64 bit (AMD64)]"
    },
    "vscode": {
      "interpreter": {
        "hash": "a16c3e0a3221a452db0c6f9ce021070d3f9c7157606fe0a396834fa7a88aef07"
      }
    }
  },
  "nbformat": 4,
  "nbformat_minor": 0
}
